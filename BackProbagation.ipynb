{
 "cells": [
  {
   "cell_type": "markdown",
   "metadata": {},
   "source": [
    "### Forward propagation"
   ]
  },
  {
   "cell_type": "code",
   "execution_count": 4,
   "metadata": {},
   "outputs": [],
   "source": [
    "import numpy as np\n",
    "sigmoid = lambda x: 1/(1 + np.exp(-x))"
   ]
  },
  {
   "cell_type": "code",
   "execution_count": 13,
   "metadata": {},
   "outputs": [
    {
     "name": "stdout",
     "output_type": "stream",
     "text": [
      "H1 input: 0.37750\n",
      "H2 input: 0.39250\n"
     ]
    }
   ],
   "source": [
    "input_h1 = 0.05*0.15+0.10*0.20+0.35\n",
    "input_h2 = 0.05*0.25+0.10*0.30+0.35\n",
    "print(\"H1 input: {:1.5f}\".format(input_h1))\n",
    "print(\"H2 input: {:1.5f}\".format(input_h2))"
   ]
  },
  {
   "cell_type": "code",
   "execution_count": 14,
   "metadata": {},
   "outputs": [
    {
     "name": "stdout",
     "output_type": "stream",
     "text": [
      "H1 output: 0.59327\n",
      "H2 output: 0.59688\n"
     ]
    }
   ],
   "source": [
    "output_h1 = sigmoid(input_h1)\n",
    "output_h2 = sigmoid(input_h2)\n",
    "print(\"H1 output: {:1.5f}\".format(output_h1))\n",
    "print(\"H2 output: {:1.5f}\".format(output_h2))"
   ]
  },
  {
   "cell_type": "code",
   "execution_count": 16,
   "metadata": {},
   "outputs": [
    {
     "name": "stdout",
     "output_type": "stream",
     "text": [
      "O1 input: 1.10591\n",
      "O2 input: 1.22492\n"
     ]
    }
   ],
   "source": [
    "input_o1 = output_h1*0.40 + output_h2*0.45 + 0.60\n",
    "input_o2 = output_h1*0.50 + output_h2*0.55 + 0.60\n",
    "print(\"O1 input: {:1.5f}\".format(input_o1))\n",
    "print(\"O2 input: {:1.5f}\".format(input_o2))"
   ]
  },
  {
   "cell_type": "code",
   "execution_count": 18,
   "metadata": {},
   "outputs": [
    {
     "name": "stdout",
     "output_type": "stream",
     "text": [
      "O1 output: 0.75137\n",
      "O2 output: 0.77293\n"
     ]
    }
   ],
   "source": [
    "output_o1 = sigmoid(input_o1)\n",
    "output_o2 = sigmoid(input_o2)\n",
    "print(\"O1 output: {:1.5f}\".format(output_o1))\n",
    "print(\"O2 output: {:1.5f}\".format(output_o2))"
   ]
  },
  {
   "cell_type": "markdown",
   "metadata": {},
   "source": [
    "### Back propagation"
   ]
  },
  {
   "cell_type": "code",
   "execution_count": 19,
   "metadata": {},
   "outputs": [
    {
     "data": {
      "text/plain": [
       "0.2983711087600027"
      ]
     },
     "execution_count": 19,
     "metadata": {},
     "output_type": "execute_result"
    }
   ],
   "source": [
    "E = lambda y_h,y: (1/2)*(y_h-y)**2\n",
    "E(output_o1, 0.01) + E(output_o2, 0.99)"
   ]
  },
  {
   "cell_type": "code",
   "execution_count": 21,
   "metadata": {},
   "outputs": [
    {
     "data": {
      "text/plain": [
       "0.74"
      ]
     },
     "execution_count": 21,
     "metadata": {},
     "output_type": "execute_result"
    }
   ],
   "source": [
    "# dE/do1\n",
    "dedo1 = -(0.01-0.75)\n"
   ]
  }
 ],
 "metadata": {
  "kernelspec": {
   "display_name": "Python 3",
   "language": "python",
   "name": "python3"
  },
  "language_info": {
   "codemirror_mode": {
    "name": "ipython",
    "version": 3
   },
   "file_extension": ".py",
   "mimetype": "text/x-python",
   "name": "python",
   "nbconvert_exporter": "python",
   "pygments_lexer": "ipython3",
   "version": "3.6.9"
  }
 },
 "nbformat": 4,
 "nbformat_minor": 4
}
